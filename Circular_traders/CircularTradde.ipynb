{
 "cells": [
  {
   "cell_type": "code",
   "execution_count": null,
   "id": "a1ec080f",
   "metadata": {},
   "outputs": [],
   "source": [
    "import numpy as np\n",
    "import pandas as pd\n",
    "import networkx as nx\n",
    "import matplotlib.pyplot as plt\n",
    "import itertools\n",
    "from itertools import combinations\n",
    "import node2vec as Node2Vec\n",
    "from gensim.models import Word2Vec\n",
    "from sklearn.cluster import KMeans\n",
    "import matplotlib.pyplot as plt\n",
    "from node2vec import Node2Vec\n",
    "from sklearn.cluster import DBSCAN\n",
    "import math\n",
    "\n",
    "from networkx.algorithms.cycles import simple_cycles\n"
   ]
  },
  {
   "cell_type": "markdown",
   "id": "be29f31a",
   "metadata": {},
   "source": [
    "#### Calculating Z-Score"
   ]
  },
  {
   "cell_type": "code",
   "execution_count": null,
   "id": "b9beaad9",
   "metadata": {},
   "outputs": [],
   "source": [
    "#-------calculating z_score for the modified formula--------#\n",
    "def z_score_calc(value, mean_value, std_value):\n",
    "    z_score = (value - mean_value) / std_value\n",
    "    return z_score"
   ]
  },
  {
   "cell_type": "markdown",
   "id": "98219cb3",
   "metadata": {},
   "source": [
    "#### Calculating Coefficient of variation for 3-variable"
   ]
  },
  {
   "cell_type": "code",
   "execution_count": null,
   "id": "adac32c3",
   "metadata": {},
   "outputs": [],
   "source": [
    "#--------here, we have given 3 weight of the 3-cycle-------------#\n",
    "def coeff_of_3_var(x, y, z):\n",
    "    \n",
    "    if(x==0 and y==0 and z==0): # show all weight is zero\n",
    "        return 0\n",
    "    if(x==y and y==z):          # all trader are transfering same amount\n",
    "        return 1\n",
    "    #-----------it show how much trader involve in circular trade--------------#\n",
    "    #----------- it give the output in the form of percentage if it give 0.70, it's meaning is intensity of that it is circular trad is 70% means high---#\n",
    "    a = x/y\n",
    "    b = y/z\n",
    "    c = z/x\n",
    "    if(a>1): # outflow(money send) is less then inflow(money recieve) then set as 1\n",
    "        a = 1\n",
    "    if(b>1): # outflow is less then inflow then set as 1\n",
    "        b=1\n",
    "    if(c>1): # outflow is less then inflow then set as 1\n",
    "        c=1\n",
    "        \n",
    "    return min(a,b,c)    \n",
    "    "
   ]
  },
  {
   "cell_type": "markdown",
   "id": "2d956cd2",
   "metadata": {},
   "source": [
    "#### Calculating Coefficient of variation for 3-variable"
   ]
  },
  {
   "cell_type": "code",
   "execution_count": null,
   "id": "8fee8f26",
   "metadata": {},
   "outputs": [],
   "source": [
    "#--------here, we have given 2 weight of the 2-cycle-------------#\n",
    "def coeff_of_2_var(x, y):\n",
    "    \n",
    "    if(x==0 and y==0):  # show all weight is zero\n",
    "        return 0\n",
    "    if(x==y):           # all trader are transfering same amount\n",
    "        return 1\n",
    "    a = x/y\n",
    "    b = y/x\n",
    "    if(a>1):   # outflow is less then inflow then set as 1\n",
    "        a = 1\n",
    "    if(b>1):   # outflow is less then inflow then set as 1\n",
    "        b=1\n",
    "            \n",
    "    return min(a,b)    \n",
    "    "
   ]
  },
  {
   "cell_type": "markdown",
   "id": "37948b8c",
   "metadata": {},
   "source": [
    "### custom_weight function"
   ]
  },
  {
   "cell_type": "code",
   "execution_count": null,
   "id": "4d10141e",
   "metadata": {},
   "outputs": [],
   "source": [
    "def custom_weight(node1, node2, mean_value, std_value):\n",
    "   \n",
    "    c2_w1 = 0    #first weight in cycle-2\n",
    "    c2_w2 = 0    #second weight in cycle-2\n",
    "    c3_w1 = 0    #first weight in cycle-3\n",
    "    c3_w2 = 0    #second weight in cycle-3\n",
    "    c3_w3 = 0    #third weight in cycle-3\n",
    "    c2_count = 0  #count of cycle-2\n",
    "    c3_count = 0  #count of cycle-3\n",
    "    \n",
    "    c2_count, c2_w1, c2_w2 = cycle_2_calc (node1, node2, cycles_2)  #gives number of 2 cycle and their two weight\n",
    "    \n",
    "    \n",
    "    c3_count, max_cov, c3_w1, c3_w2, c3_w3 = cycle_3_calc(node1, node2, cycles_3)   #gives number of 3 cycle and their three weight\n",
    "    \n",
    "    \n",
    "    c2_cov = np.exp(coeff_of_2_var(c2_w1, c2_w2))      #give the intensity of circular trading of 2-cycle\n",
    "    c3_cov = np.exp(coeff_of_3_var(c3_w1, c3_w2, c3_w3))   #give the intensity of circular trading of 3-cycle\n",
    "    \n",
    "    value = c2_w1 + c2_w2 + c3_w1 + c3_w2 + c3_w3    \n",
    "    \n",
    "    z_score = z_score_calc(value, mean_value, std_value) # calculating z-score\n",
    "    \n",
    "    \n",
    "    root_cyc = math.sqrt(pow(2, c2_count) * pow(3, c3_count))\n",
    "    \n",
    "\n",
    "    return root_cyc *c3_cov*z_score   # give the final weight of edge"
   ]
  },
  {
   "cell_type": "markdown",
   "id": "4579e1ad",
   "metadata": {},
   "source": [
    "#### calculating the total weights"
   ]
  },
  {
   "cell_type": "code",
   "execution_count": null,
   "id": "0c8dbbf8",
   "metadata": {},
   "outputs": [],
   "source": [
    "def total_weight_between_nodes(node1, node2):\n",
    "    try:\n",
    "        weight1 = G[node1][node2]['weight']\n",
    "    except KeyError:\n",
    "        weight1 = 0\n",
    "    try:\n",
    "        weight2 = G[node2][node1]['weight']\n",
    "    except KeyError:\n",
    "        weight2 = 0\n",
    "    return weight1 + weight2\n"
   ]
  },
  {
   "cell_type": "markdown",
   "id": "63ebf329",
   "metadata": {},
   "source": [
    "#### 2 - cycle calculation"
   ]
  },
  {
   "cell_type": "code",
   "execution_count": null,
   "id": "2aebd170",
   "metadata": {},
   "outputs": [],
   "source": [
    "def cycle_2_calc(node1, node2, cycles_2):\n",
    "    for cycle, weights in cycles_2:\n",
    "        if set([node1, node2]) == set(cycle):\n",
    "            return 1, weights[0], weights[1]\n",
    "    return 0, 0, 0\n",
    "\n"
   ]
  },
  {
   "cell_type": "code",
   "execution_count": null,
   "id": "14e6ae8d",
   "metadata": {},
   "outputs": [],
   "source": [
    "def cycle_3_calc(node1, node2, cycles_3):\n",
    "    sum_w = 0\n",
    "    max_cov = 0\n",
    "    count = 0\n",
    "    c3_w1 = 0\n",
    "    c3_w2 = 0\n",
    "    c3_w3 = 0\n",
    "    \n",
    "    for cycle, weights in cycles_3:\n",
    "        if set([node1, node2]).issubset(set(cycle)):\n",
    "            count+=1\n",
    "            \n",
    "            if((weights[0] + weights[1] + weights[2]) >= sum_w ):\n",
    "                sum_w = weights[0] + weights[1] + weights[2]\n",
    "                c3_w1 = weights[0]\n",
    "                c3_w2 = weights[1]\n",
    "                c3_w3 = weights[2]\n",
    "            if(coeff_of_3_var(weights[0], weights[1], weights[2]) >= max_cov):\n",
    "                max_cov = coeff_of_3_var(weights[0], weights[1], weights[2])\n",
    "    return count, max_cov, c3_w1, c3_w2, c3_w3\n"
   ]
  },
  {
   "cell_type": "code",
   "execution_count": null,
   "id": "fe987e98",
   "metadata": {},
   "outputs": [],
   "source": [
    "import pandas as pd\n",
    "\n",
    "# Read the CSV file into a pandas DataFrame\n",
    "df = pd.read_csv('flattened.csv')\n",
    "\n",
    "# Calculate the mean and standard deviation of the 'Value' column\n",
    "mean_value = df['Value'].mean()\n",
    "std_value = df['Value'].std()\n",
    "\n",
    "# Print the results\n",
    "print('Mean value:', mean_value)\n",
    "print('Standard deviation of value:', std_value)\n",
    "                     "
   ]
  },
  {
   "cell_type": "markdown",
   "id": "7a7f0684",
   "metadata": {},
   "source": [
    "### Creating Directed Graph"
   ]
  },
  {
   "cell_type": "code",
   "execution_count": null,
   "id": "114fd3a5",
   "metadata": {},
   "outputs": [],
   "source": [
    "#-----creating directed graph----------#\n",
    "G = nx.DiGraph()\n",
    "for _, row in df.iterrows():\n",
    "    G.add_edge(row['Seller ID'], row['Buyer ID'], weight=row['Value'])\n",
    "\n"
   ]
  },
  {
   "cell_type": "code",
   "execution_count": null,
   "id": "d35a2ad0",
   "metadata": {},
   "outputs": [],
   "source": [
    "# -----------Initialize an empty list to store cycles of length 3------------#\n",
    "cycles_3 = []\n",
    "\n",
    "# ------------Loop over all simple cycles in the graph----------#\n",
    "for cycle in nx.simple_cycles(G):\n",
    "     # -----------Check if the cycle has length 3 -----------#\n",
    "    if len(cycle) == 3:\n",
    "        \n",
    "        # -------Initialize an empty list to store the weights of the edges in the cycle-----#\n",
    "        cycle_weights = []\n",
    "        for i in range(2):\n",
    "            # Try to get the weight of the edge connecting the current node to the next node in the cycle\n",
    "            try:\n",
    "                weight = G.get_edge_data(cycle[i], cycle[i+1])['weight']\n",
    "                cycle_weights.append(weight)\n",
    "            except KeyError:\n",
    "                # Edge doesn't exist\n",
    "                break\n",
    "        else:  # This runs if the for loop completes without hitting a 'break'\n",
    "            \n",
    "            # Try to get the weight of the edge connecting the last node in the cycle to the first node\n",
    "            try:\n",
    "                weight = G.get_edge_data(cycle[2], cycle[0])['weight']\n",
    "                cycle_weights.append(weight)\n",
    "            except KeyError:\n",
    "                # Edge doesn't exist\n",
    "                break\n",
    "            if len(cycle_weights) == 3:\n",
    "                cycles_3.append((cycle, cycle_weights))\n",
    "\n"
   ]
  },
  {
   "cell_type": "code",
   "execution_count": null,
   "id": "c6835786",
   "metadata": {},
   "outputs": [],
   "source": [
    "# -----------Initialize an empty list to store cycles of length 2------------#\n",
    "cycles_2 = []\n",
    "visited = set()\n",
    "# ------------Loop over all simple cycles in the graph----------#\n",
    "for cycle in nx.simple_cycles(G):\n",
    "    # -----------Check if the cycle has length 2 -----------#\n",
    "    if len(cycle) == 2 and tuple(cycle) not in visited:\n",
    "        visited.add(tuple(cycle))\n",
    "        cycle_weights = []\n",
    "        for i in range(1):\n",
    "            # Try to get the weight of the edge connecting the current node to the next node in the cycle\n",
    "            try:\n",
    "                weight = G.get_edge_data(cycle[i], cycle[i+1])['weight']\n",
    "                cycle_weights.append(weight)\n",
    "            except KeyError:\n",
    "                # Edge doesn't exist\n",
    "                break\n",
    "        else:  # This runs if the for loop completes without hitting a 'break'\n",
    "            # Try to get the weight of the edge connecting the last node in the cycle to the first node\n",
    "            try:\n",
    "                weight = G.get_edge_data(cycle[1], cycle[0])['weight']\n",
    "                cycle_weights.append(weight)\n",
    "            except KeyError:\n",
    "                # Edge doesn't exist\n",
    "                break\n",
    "            cycles_2.append((cycle, cycle_weights))\n",
    "\n",
    "\n"
   ]
  },
  {
   "cell_type": "markdown",
   "id": "397d55ee",
   "metadata": {},
   "source": [
    "#### Mamoth block"
   ]
  },
  {
   "cell_type": "code",
   "execution_count": null,
   "id": "e06670e0",
   "metadata": {},
   "outputs": [],
   "source": [
    "UG = nx.Graph()\n",
    "\n",
    "# Add edges to the undirected graph\n",
    "for u, v, data in G.edges(data=True):\n",
    "    # Add the edge in both directions\n",
    "    UG.add_edge(u, v)\n",
    "    UG.add_edge(v, u)\n"
   ]
  },
  {
   "cell_type": "code",
   "execution_count": null,
   "id": "bd391899",
   "metadata": {},
   "outputs": [],
   "source": [
    "H = nx.Graph()\n",
    "weight = 1\n",
    "for u, v in UG.edges:\n",
    "    print(\"u, v\", u,v,custom_weight(u,v, mean_value, std_value))\n",
    "    H.add_edge(u, v, weight=custom_weight(u,v, mean_value, std_value))\n",
    "\n",
    "    \n",
    "#######################################################################\n",
    "nx.draw_networkx(H, with_labels=True)\n",
    "plt.show()\n",
    "#print(G.edges(data=True))"
   ]
  },
  {
   "cell_type": "markdown",
   "id": "6a41cc66",
   "metadata": {},
   "source": [
    "#### Embeddings + node2vec"
   ]
  },
  {
   "cell_type": "code",
   "execution_count": null,
   "id": "f1f3af4f",
   "metadata": {},
   "outputs": [],
   "source": [
    "#applying node2vec on the graph H\n",
    "node2vec = Node2Vec(H, dimensions=2, walk_length=30, num_walks=200)\n",
    "model = node2vec.fit(window=10, min_count=1, batch_words=4)\n",
    "\n",
    "# Use the embeddings to cluster the nodes using DBSCAN\n",
    "X = model.wv.vectors\n",
    "dbscan = DBSCAN(eps=0.5, min_samples=5)\n",
    "dbscan.fit(X)\n",
    "labels = dbscan.labels_\n",
    "\n",
    "# Plot the scatter plot\n",
    "plt.figure(figsize=(8,8))\n",
    "plt.scatter(X[:,0], X[:,1], c=labels, cmap='viridis')\n",
    "plt.show()"
   ]
  },
  {
   "cell_type": "markdown",
   "id": "7ce583a4",
   "metadata": {},
   "source": [
    "#### Printing the cluster"
   ]
  },
  {
   "cell_type": "code",
   "execution_count": null,
   "id": "c89b2971",
   "metadata": {},
   "outputs": [],
   "source": [
    "clusters = {}\n",
    "for i, label in enumerate(labels):\n",
    "    if label in clusters:\n",
    "        clusters[label].append(list(G.nodes())[i])\n",
    "    else:\n",
    "        clusters[label] = [list(G.nodes())[i]]\n",
    "\n",
    "# Print the nodes in each cluster\n",
    "for label, nodes in clusters.items():\n",
    "    print(\"Nodes in cluster\", label, \":\", nodes)\n"
   ]
  },
  {
   "cell_type": "code",
   "execution_count": null,
   "id": "453475bc",
   "metadata": {},
   "outputs": [],
   "source": []
  },
  {
   "cell_type": "code",
   "execution_count": null,
   "id": "444c6cf8",
   "metadata": {},
   "outputs": [],
   "source": []
  },
  {
   "cell_type": "code",
   "execution_count": null,
   "id": "3c61dc11",
   "metadata": {},
   "outputs": [],
   "source": []
  },
  {
   "cell_type": "code",
   "execution_count": null,
   "id": "21c6d80a",
   "metadata": {},
   "outputs": [],
   "source": []
  }
 ],
 "metadata": {
  "kernelspec": {
   "display_name": "Python 3 (ipykernel)",
   "language": "python",
   "name": "python3"
  },
  "language_info": {
   "codemirror_mode": {
    "name": "ipython",
    "version": 3
   },
   "file_extension": ".py",
   "mimetype": "text/x-python",
   "name": "python",
   "nbconvert_exporter": "python",
   "pygments_lexer": "ipython3",
   "version": "3.10.6"
  }
 },
 "nbformat": 4,
 "nbformat_minor": 5
}
